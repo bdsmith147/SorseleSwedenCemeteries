{
 "cells": [
  {
   "cell_type": "code",
   "execution_count": 1,
   "metadata": {},
   "outputs": [],
   "source": [
    "import numpy as np\n",
    "from matplotlib import pyplot as plt\n",
    "import pandas as pd\n",
    "import datetime as dt\n",
    "pathname = 'Indexes/'\n",
    "filename = 'sorsele-skogskyrkogard'\n",
    "AllData = pd.read_csv(pathname + filename + '.csv')\n"
   ]
  },
  {
   "cell_type": "code",
   "execution_count": 2,
   "metadata": {},
   "outputs": [
    {
     "data": {
      "text/plain": [
       "1896"
      ]
     },
     "execution_count": 2,
     "metadata": {},
     "output_type": "execute_result"
    }
   ],
   "source": [
    "len(AllData['Deaths'])"
   ]
  },
  {
   "cell_type": "code",
   "execution_count": 3,
   "metadata": {},
   "outputs": [],
   "source": [
    "all_births = pd.to_datetime(AllData['Births'], format=\"%Y-%m-%d\", errors='coerce')\n",
    "all_deaths = pd.to_datetime(AllData['Deaths'], format=\"%Y-%m-%d\", errors='coerce')"
   ]
  },
  {
   "cell_type": "code",
   "execution_count": 4,
   "metadata": {},
   "outputs": [
    {
     "name": "stdout",
     "output_type": "stream",
     "text": [
      "[  20  118  130  469  514  764  820 1280 1531]\n"
     ]
    }
   ],
   "source": [
    "bad_deaths = np.where(all_deaths.isnull())[0]\n",
    "bad_births = np.where(all_births.isnull())[0]\n",
    "bad_order = np.where(all_deaths < all_births)[0]\n",
    "bad_rows = np.unique(np.concatenate([bad_births, bad_deaths, bad_order]))\n",
    "#print(bad_deaths)\n",
    "#print(bad_births)\n",
    "print(bad_rows)\n",
    "\n",
    "deaths = all_deaths.drop(bad_rows)\n",
    "births = all_births.drop(bad_rows)\n",
    "\n",
    "dates = pd.DataFrame({'births':births, 'deaths':deaths})\n",
    "dates['diff'] = (dates['deaths'] - dates['births']).astype('timedelta64[D]')"
   ]
  },
  {
   "cell_type": "code",
   "execution_count": 5,
   "metadata": {},
   "outputs": [
    {
     "name": "stdout",
     "output_type": "stream",
     "text": [
      "1951\n"
     ]
    }
   ],
   "source": [
    "earliest = dates['births'].min().year\n",
    "latest = dates['deaths'].max().year\n",
    "youngest = int(dates['diff'].min() / 365)\n",
    "oldest = int(dates['diff'].max() / 365)\n",
    "print(dates['deaths'].min().year)"
   ]
  },
  {
   "cell_type": "code",
   "execution_count": 6,
   "metadata": {},
   "outputs": [
    {
     "data": {
      "image/png": "[encoded data removed]",
      "text/plain": [
       "<Figure size 432x288 with 1 Axes>"
      ]
     },
     "metadata": {
      "needs_background": "light"
     },
     "output_type": "display_data"
    }
   ],
   "source": [
    "nbins = int((latest - earliest)/4)\n",
    "plt.figure()\n",
    "plt.hist(dates['births'], alpha=0.5, bins=nbins, label='Births')\n",
    "plt.hist(dates['deaths'], alpha=0.5, bins=nbins, label='Deaths')\n",
    "#plt.vlines(dt.datetime(1939, 9, 1), 0, 50, linestyle='dashed') # WWII start date\n",
    "#plt.vlines(dt.datetime(1945, 9, 2), 0, 50, linestyle='dashed') # WWII end date\n",
    "#plt.fill_betweenx(50, dt.datetime(1939, 9, 1), dt.datetime(1945, 9, 2))\n",
    "plt.title(filename + ': Births and Deaths')\n",
    "plt.legend()\n",
    "plt.xlabel('Year')\n",
    "plt.ylabel('N')\n",
    "plt.show()"
   ]
  },
  {
   "cell_type": "code",
   "execution_count": 7,
   "metadata": {},
   "outputs": [
    {
     "data": {
      "image/png": "[encoded data removed]",
      "text/plain": [
       "<Figure size 432x288 with 1 Axes>"
      ]
     },
     "metadata": {
      "needs_background": "light"
     },
     "output_type": "display_data"
    }
   ],
   "source": [
    "plt.figure()\n",
    "plt.hist(dates['diff'] / 365, alpha=0.5, bins=int(oldest/4), label='Ages')\n",
    "plt.title(filename + ': Age at death')\n",
    "plt.legend()\n",
    "plt.xlabel('Age')\n",
    "plt.ylabel('N')\n",
    "plt.show()"
   ]
  },
  {
   "cell_type": "code",
   "execution_count": 49,
   "metadata": {},
   "outputs": [
    {
     "data": {
      "text/plain": [
       "1951"
      ]
     },
     "execution_count": 49,
     "metadata": {},
     "output_type": "execute_result"
    }
   ],
   "source": [
    "dates['deaths'].min().year"
   ]
  },
  {
   "cell_type": "code",
   "execution_count": 50,
   "metadata": {},
   "outputs": [
    {
     "name": "stdout",
     "output_type": "stream",
     "text": [
      "<class 'pandas.core.series.Series'>\n"
     ]
    }
   ],
   "source": [
    "diff = (deaths - births)\n",
    "print(type(diff))"
   ]
  },
  {
   "cell_type": "code",
   "execution_count": 51,
   "metadata": {},
   "outputs": [
    {
     "data": {
      "text/plain": [
       "datetime.datetime(1939, 9, 1, 0, 0)"
      ]
     },
     "execution_count": 51,
     "metadata": {},
     "output_type": "execute_result"
    }
   ],
   "source": [
    "dt.datetime(1939, 9, 1)"
   ]
  },
  {
   "cell_type": "code",
   "execution_count": 53,
   "metadata": {},
   "outputs": [
    {
     "data": {
      "text/plain": [
       "0                       Karl Alenius\n",
       "1            Mauritz Axelsson Linder\n",
       "2       Hedvig Valborg Berglund /mor\n",
       "3                 Sven Viktor Bjurén\n",
       "4               Tage Ingvar Bjurhage\n",
       "                    ...             \n",
       "1891           Siri Elsine Lundström\n",
       "1892           Jan Leo Haldo Löfdahl\n",
       "1893    Maria Anneli Aulikki Löfdahl\n",
       "1894             Aida Lucia Molander\n",
       "1895      Jenny Ann-Charlott Persson\n",
       "Name: Names, Length: 1896, dtype: object"
      ]
     },
     "execution_count": 53,
     "metadata": {},
     "output_type": "execute_result"
    }
   ],
   "source": [
    "AllData['Names']"
   ]
  },
  {
   "cell_type": "code",
   "execution_count": 87,
   "metadata": {},
   "outputs": [
    {
     "data": {
      "text/plain": [
       "126"
      ]
     },
     "execution_count": 87,
     "metadata": {},
     "output_type": "execute_result"
    }
   ],
   "source": [
    "oldest"
   ]
  },
  {
   "cell_type": "markdown",
   "metadata": {},
   "source": [
    "Ideas:\n",
    "* Sorting within a block\n",
    "* Extract first/middle/last names. Consider:\n",
    "    * Case insensitive\n",
    "    * Maiden/married names\n",
    "    * Nicknames (in quotes)\n",
    "    * Children (underage)    \n",
    "* Most common first/last names - wordcloud package\n",
    "* Sort by burial site and see if the order tells me anything\n",
    "* A list of incomplete/incorrect data to return to the parish"
   ]
  },
  {
   "cell_type": "code",
   "execution_count": null,
   "metadata": {},
   "outputs": [],
   "source": []
  }
 ],
 "metadata": {
  "kernelspec": {
   "display_name": "Python 3",
   "language": "python",
   "name": "python3"
  },
  "language_info": {
   "codemirror_mode": {
    "name": "ipython",
    "version": 3
   },
   "file_extension": ".py",
   "mimetype": "text/x-python",
   "name": "python",
   "nbconvert_exporter": "python",
   "pygments_lexer": "ipython3",
   "version": "3.7.1"
  }
 },
 "nbformat": 4,
 "nbformat_minor": 4
}
